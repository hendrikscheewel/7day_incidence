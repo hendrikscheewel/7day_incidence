{
 "cells": [
  {
   "cell_type": "code",
   "execution_count": 157,
   "metadata": {},
   "outputs": [],
   "source": [
    "url = 'https://epistat.sciensano.be/Data/COVID19BE_CASES_AGESEX.json'\n",
    "\n",
    "import requests\n",
    "import json\n",
    "import numpy as np\n",
    "import pandas as pd\n",
    "\n",
    "# Population Source: https://statbel.fgov.be/en/themes/population/structure-population\n",
    "pop2020 = [1218255, 6629143, 3645243]\n",
    "pop2019 = [1208542, 6589069,3633795]\n",
    "pop = pd.DataFrame(data=pop2020,index=['Brussels','Flanders','Wallonia']).T\n",
    "pop.columns.name = 'REGION'\n",
    "\n",
    "# Request data from Sciensano\n",
    "r = requests.get(url)\n",
    "data = pd.DataFrame(json.loads(r.text))\n",
    "\n",
    "# Compute 7-day incidence\n",
    "data['DATE'] = pd.to_datetime(data.DATE,format='%Y-%m-%d')\n",
    "region = data.groupby(['DATE','REGION']).sum().unstack('REGION')\n",
    "region = region['CASES']\n",
    "incidence = region.rolling(window=7).sum().div(np.array(pop),axis=1)*100000\n",
    "\n",
    "last_ten_days = incidence.tail(10).astype(int)"
   ]
  },
  {
   "cell_type": "code",
   "execution_count": 2,
   "metadata": {},
   "outputs": [
    {
     "ename": "NameError",
     "evalue": "name 'incidence' is not defined",
     "output_type": "error",
     "traceback": [
      "\u001b[0;31m---------------------------------------------------------------------------\u001b[0m",
      "\u001b[0;31mNameError\u001b[0m                                 Traceback (most recent call last)",
      "\u001b[0;32m<ipython-input-2-37b360d03d71>\u001b[0m in \u001b[0;36m<module>\u001b[0;34m\u001b[0m\n\u001b[0;32m----> 1\u001b[0;31m \u001b[0mincidence\u001b[0m\u001b[0;34m.\u001b[0m\u001b[0mplot\u001b[0m\u001b[0;34m(\u001b[0m\u001b[0mfigsize\u001b[0m\u001b[0;34m=\u001b[0m\u001b[0;34m(\u001b[0m\u001b[0;36m15\u001b[0m\u001b[0;34m,\u001b[0m\u001b[0;36m10\u001b[0m\u001b[0;34m)\u001b[0m\u001b[0;34m)\u001b[0m\u001b[0;34m\u001b[0m\u001b[0;34m\u001b[0m\u001b[0m\n\u001b[0m",
      "\u001b[0;31mNameError\u001b[0m: name 'incidence' is not defined"
     ]
    }
   ],
   "source": [
    "incidence.plot(figsize=(15,10))"
   ]
  },
  {
   "cell_type": "code",
   "execution_count": 160,
   "metadata": {},
   "outputs": [
    {
     "data": {
      "text/html": [
       "<div>\n",
       "<style scoped>\n",
       "    .dataframe tbody tr th:only-of-type {\n",
       "        vertical-align: middle;\n",
       "    }\n",
       "\n",
       "    .dataframe tbody tr th {\n",
       "        vertical-align: top;\n",
       "    }\n",
       "\n",
       "    .dataframe thead th {\n",
       "        text-align: right;\n",
       "    }\n",
       "</style>\n",
       "<table border=\"1\" class=\"dataframe\">\n",
       "  <thead>\n",
       "    <tr style=\"text-align: right;\">\n",
       "      <th>REGION</th>\n",
       "      <th>Brussels</th>\n",
       "      <th>Flanders</th>\n",
       "      <th>Wallonia</th>\n",
       "    </tr>\n",
       "    <tr>\n",
       "      <th>DATE</th>\n",
       "      <th></th>\n",
       "      <th></th>\n",
       "      <th></th>\n",
       "    </tr>\n",
       "  </thead>\n",
       "  <tbody>\n",
       "    <tr>\n",
       "      <th>2020-10-25</th>\n",
       "      <td>1198</td>\n",
       "      <td>573</td>\n",
       "      <td>1399</td>\n",
       "    </tr>\n",
       "    <tr>\n",
       "      <th>2020-10-26</th>\n",
       "      <td>1176</td>\n",
       "      <td>607</td>\n",
       "      <td>1459</td>\n",
       "    </tr>\n",
       "    <tr>\n",
       "      <th>2020-10-27</th>\n",
       "      <td>1140</td>\n",
       "      <td>622</td>\n",
       "      <td>1525</td>\n",
       "    </tr>\n",
       "    <tr>\n",
       "      <th>2020-10-28</th>\n",
       "      <td>1118</td>\n",
       "      <td>618</td>\n",
       "      <td>1549</td>\n",
       "    </tr>\n",
       "    <tr>\n",
       "      <th>2020-10-29</th>\n",
       "      <td>1028</td>\n",
       "      <td>604</td>\n",
       "      <td>1526</td>\n",
       "    </tr>\n",
       "    <tr>\n",
       "      <th>2020-10-30</th>\n",
       "      <td>931</td>\n",
       "      <td>581</td>\n",
       "      <td>1495</td>\n",
       "    </tr>\n",
       "    <tr>\n",
       "      <th>2020-10-31</th>\n",
       "      <td>873</td>\n",
       "      <td>561</td>\n",
       "      <td>1388</td>\n",
       "    </tr>\n",
       "    <tr>\n",
       "      <th>2020-11-01</th>\n",
       "      <td>853</td>\n",
       "      <td>549</td>\n",
       "      <td>1345</td>\n",
       "    </tr>\n",
       "    <tr>\n",
       "      <th>2020-11-02</th>\n",
       "      <td>686</td>\n",
       "      <td>441</td>\n",
       "      <td>1175</td>\n",
       "    </tr>\n",
       "    <tr>\n",
       "      <th>2020-11-03</th>\n",
       "      <td>477</td>\n",
       "      <td>329</td>\n",
       "      <td>852</td>\n",
       "    </tr>\n",
       "  </tbody>\n",
       "</table>\n",
       "</div>"
      ],
      "text/plain": [
       "REGION      Brussels  Flanders  Wallonia\n",
       "DATE                                    \n",
       "2020-10-25      1198       573      1399\n",
       "2020-10-26      1176       607      1459\n",
       "2020-10-27      1140       622      1525\n",
       "2020-10-28      1118       618      1549\n",
       "2020-10-29      1028       604      1526\n",
       "2020-10-30       931       581      1495\n",
       "2020-10-31       873       561      1388\n",
       "2020-11-01       853       549      1345\n",
       "2020-11-02       686       441      1175\n",
       "2020-11-03       477       329       852"
      ]
     },
     "execution_count": 160,
     "metadata": {},
     "output_type": "execute_result"
    }
   ],
   "source": [
    "last_ten_days"
   ]
  }
 ],
 "metadata": {
  "kernelspec": {
   "display_name": "Python 3",
   "language": "python",
   "name": "python3"
  },
  "language_info": {
   "codemirror_mode": {
    "name": "ipython",
    "version": 3
   },
   "file_extension": ".py",
   "mimetype": "text/x-python",
   "name": "python",
   "nbconvert_exporter": "python",
   "pygments_lexer": "ipython3",
   "version": "3.7.7"
  }
 },
 "nbformat": 4,
 "nbformat_minor": 4
}
